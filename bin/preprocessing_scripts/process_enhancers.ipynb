{
 "cells": [
  {
   "cell_type": "code",
   "execution_count": 3,
   "metadata": {},
   "outputs": [],
   "source": [
    "import pandas as pd\n",
    "import numpy as np\n",
    "import re"
   ]
  },
  {
   "cell_type": "code",
   "execution_count": 5,
   "metadata": {},
   "outputs": [],
   "source": [
    "cCREs = pd.read_csv('../../data/raw_datas/mm10-cCREs.bed', sep = \"\\t\", header = None)"
   ]
  },
  {
   "cell_type": "code",
   "execution_count": 9,
   "metadata": {},
   "outputs": [
    {
     "data": {
      "text/html": [
       "<div>\n",
       "<style scoped>\n",
       "    .dataframe tbody tr th:only-of-type {\n",
       "        vertical-align: middle;\n",
       "    }\n",
       "\n",
       "    .dataframe tbody tr th {\n",
       "        vertical-align: top;\n",
       "    }\n",
       "\n",
       "    .dataframe thead th {\n",
       "        text-align: right;\n",
       "    }\n",
       "</style>\n",
       "<table border=\"1\" class=\"dataframe\">\n",
       "  <thead>\n",
       "    <tr style=\"text-align: right;\">\n",
       "      <th></th>\n",
       "      <th>0</th>\n",
       "      <th>1</th>\n",
       "      <th>2</th>\n",
       "      <th>3</th>\n",
       "      <th>4</th>\n",
       "      <th>5</th>\n",
       "    </tr>\n",
       "  </thead>\n",
       "  <tbody>\n",
       "    <tr>\n",
       "      <th>0</th>\n",
       "      <td>chr1</td>\n",
       "      <td>3012681</td>\n",
       "      <td>3012836</td>\n",
       "      <td>EM10D1036230</td>\n",
       "      <td>EM10E0932225</td>\n",
       "      <td>CTCF-only,CTCF-bound</td>\n",
       "    </tr>\n",
       "    <tr>\n",
       "      <th>1</th>\n",
       "      <td>chr1</td>\n",
       "      <td>3119617</td>\n",
       "      <td>3119911</td>\n",
       "      <td>EM10D1036249</td>\n",
       "      <td>EM10E0431203</td>\n",
       "      <td>dELS</td>\n",
       "    </tr>\n",
       "    <tr>\n",
       "      <th>2</th>\n",
       "      <td>chr1</td>\n",
       "      <td>3119914</td>\n",
       "      <td>3120119</td>\n",
       "      <td>EM10D2262517</td>\n",
       "      <td>EM10E0932226</td>\n",
       "      <td>dELS</td>\n",
       "    </tr>\n",
       "    <tr>\n",
       "      <th>3</th>\n",
       "      <td>chr1</td>\n",
       "      <td>3120346</td>\n",
       "      <td>3120662</td>\n",
       "      <td>EM10D1036251</td>\n",
       "      <td>EM10E0431205</td>\n",
       "      <td>dELS</td>\n",
       "    </tr>\n",
       "    <tr>\n",
       "      <th>4</th>\n",
       "      <td>chr1</td>\n",
       "      <td>3445885</td>\n",
       "      <td>3446198</td>\n",
       "      <td>EM10D1036337</td>\n",
       "      <td>EM10E0431211</td>\n",
       "      <td>pELS</td>\n",
       "    </tr>\n",
       "    <tr>\n",
       "      <th>...</th>\n",
       "      <td>...</td>\n",
       "      <td>...</td>\n",
       "      <td>...</td>\n",
       "      <td>...</td>\n",
       "      <td>...</td>\n",
       "      <td>...</td>\n",
       "    </tr>\n",
       "    <tr>\n",
       "      <th>368116</th>\n",
       "      <td>chrX</td>\n",
       "      <td>166516781</td>\n",
       "      <td>166517123</td>\n",
       "      <td>EM10D2261053</td>\n",
       "      <td>EM10E1234933</td>\n",
       "      <td>dELS</td>\n",
       "    </tr>\n",
       "    <tr>\n",
       "      <th>368117</th>\n",
       "      <td>chrX</td>\n",
       "      <td>166539724</td>\n",
       "      <td>166540065</td>\n",
       "      <td>EM10D2261067</td>\n",
       "      <td>EM10E1234936</td>\n",
       "      <td>dELS</td>\n",
       "    </tr>\n",
       "    <tr>\n",
       "      <th>368118</th>\n",
       "      <td>chrX</td>\n",
       "      <td>166895215</td>\n",
       "      <td>166895561</td>\n",
       "      <td>EM10D2261208</td>\n",
       "      <td>EM10E1234954</td>\n",
       "      <td>dELS</td>\n",
       "    </tr>\n",
       "    <tr>\n",
       "      <th>368119</th>\n",
       "      <td>chrX</td>\n",
       "      <td>169861337</td>\n",
       "      <td>169861669</td>\n",
       "      <td>EM10D2994601</td>\n",
       "      <td>EM10E1235078</td>\n",
       "      <td>dELS</td>\n",
       "    </tr>\n",
       "    <tr>\n",
       "      <th>368120</th>\n",
       "      <td>chrX</td>\n",
       "      <td>169883413</td>\n",
       "      <td>169883757</td>\n",
       "      <td>EM10D2994616</td>\n",
       "      <td>EM10E1235088</td>\n",
       "      <td>dELS</td>\n",
       "    </tr>\n",
       "  </tbody>\n",
       "</table>\n",
       "<p>368121 rows × 6 columns</p>\n",
       "</div>"
      ],
      "text/plain": [
       "           0          1          2             3             4  \\\n",
       "0       chr1    3012681    3012836  EM10D1036230  EM10E0932225   \n",
       "1       chr1    3119617    3119911  EM10D1036249  EM10E0431203   \n",
       "2       chr1    3119914    3120119  EM10D2262517  EM10E0932226   \n",
       "3       chr1    3120346    3120662  EM10D1036251  EM10E0431205   \n",
       "4       chr1    3445885    3446198  EM10D1036337  EM10E0431211   \n",
       "...      ...        ...        ...           ...           ...   \n",
       "368116  chrX  166516781  166517123  EM10D2261053  EM10E1234933   \n",
       "368117  chrX  166539724  166540065  EM10D2261067  EM10E1234936   \n",
       "368118  chrX  166895215  166895561  EM10D2261208  EM10E1234954   \n",
       "368119  chrX  169861337  169861669  EM10D2994601  EM10E1235078   \n",
       "368120  chrX  169883413  169883757  EM10D2994616  EM10E1235088   \n",
       "\n",
       "                           5  \n",
       "0       CTCF-only,CTCF-bound  \n",
       "1                       dELS  \n",
       "2                       dELS  \n",
       "3                       dELS  \n",
       "4                       pELS  \n",
       "...                      ...  \n",
       "368116                  dELS  \n",
       "368117                  dELS  \n",
       "368118                  dELS  \n",
       "368119                  dELS  \n",
       "368120                  dELS  \n",
       "\n",
       "[368121 rows x 6 columns]"
      ]
     },
     "execution_count": 9,
     "metadata": {},
     "output_type": "execute_result"
    }
   ],
   "source": [
    "cCREs"
   ]
  },
  {
   "cell_type": "code",
   "execution_count": 17,
   "metadata": {},
   "outputs": [
    {
     "data": {
      "text/plain": [
       "0         False\n",
       "1          True\n",
       "2          True\n",
       "3          True\n",
       "4         False\n",
       "          ...  \n",
       "368116     True\n",
       "368117     True\n",
       "368118     True\n",
       "368119     True\n",
       "368120     True\n",
       "Name: 5, Length: 368121, dtype: bool"
      ]
     },
     "execution_count": 17,
     "metadata": {},
     "output_type": "execute_result"
    }
   ],
   "source": [
    "cCREs.iloc[:,5] == \"dELS\""
   ]
  },
  {
   "cell_type": "code",
   "execution_count": 12,
   "metadata": {},
   "outputs": [
    {
     "data": {
      "text/plain": [
       "array(['CTCF-only,CTCF-bound', 'dELS', 'pELS', 'dELS,CTCF-bound',\n",
       "       'DNase-H3K4me3,CTCF-bound', 'pELS,CTCF-bound', 'DNase-H3K4me3',\n",
       "       'PLS', 'PLS,CTCF-bound'], dtype=object)"
      ]
     },
     "execution_count": 12,
     "metadata": {},
     "output_type": "execute_result"
    }
   ],
   "source": [
    "cCREs.iloc[:,5].unique()"
   ]
  },
  {
   "cell_type": "code",
   "execution_count": 33,
   "metadata": {},
   "outputs": [],
   "source": [
    "compiled_ELS = re.compile(pattern = \".*ELS.*\")"
   ]
  },
  {
   "cell_type": "code",
   "execution_count": 39,
   "metadata": {},
   "outputs": [],
   "source": [
    "subseting = [True if compiled_ELS.match(index) != None else False for index in cCREs.iloc[:,5]]"
   ]
  },
  {
   "cell_type": "code",
   "execution_count": 41,
   "metadata": {},
   "outputs": [],
   "source": [
    "enhancers = cCREs[subseting]"
   ]
  },
  {
   "cell_type": "code",
   "execution_count": 42,
   "metadata": {},
   "outputs": [
    {
     "data": {
      "text/html": [
       "<div>\n",
       "<style scoped>\n",
       "    .dataframe tbody tr th:only-of-type {\n",
       "        vertical-align: middle;\n",
       "    }\n",
       "\n",
       "    .dataframe tbody tr th {\n",
       "        vertical-align: top;\n",
       "    }\n",
       "\n",
       "    .dataframe thead th {\n",
       "        text-align: right;\n",
       "    }\n",
       "</style>\n",
       "<table border=\"1\" class=\"dataframe\">\n",
       "  <thead>\n",
       "    <tr style=\"text-align: right;\">\n",
       "      <th></th>\n",
       "      <th>0</th>\n",
       "      <th>1</th>\n",
       "      <th>2</th>\n",
       "      <th>3</th>\n",
       "      <th>4</th>\n",
       "      <th>5</th>\n",
       "    </tr>\n",
       "  </thead>\n",
       "  <tbody>\n",
       "    <tr>\n",
       "      <th>1</th>\n",
       "      <td>chr1</td>\n",
       "      <td>3119617</td>\n",
       "      <td>3119911</td>\n",
       "      <td>EM10D1036249</td>\n",
       "      <td>EM10E0431203</td>\n",
       "      <td>dELS</td>\n",
       "    </tr>\n",
       "    <tr>\n",
       "      <th>2</th>\n",
       "      <td>chr1</td>\n",
       "      <td>3119914</td>\n",
       "      <td>3120119</td>\n",
       "      <td>EM10D2262517</td>\n",
       "      <td>EM10E0932226</td>\n",
       "      <td>dELS</td>\n",
       "    </tr>\n",
       "    <tr>\n",
       "      <th>3</th>\n",
       "      <td>chr1</td>\n",
       "      <td>3120346</td>\n",
       "      <td>3120662</td>\n",
       "      <td>EM10D1036251</td>\n",
       "      <td>EM10E0431205</td>\n",
       "      <td>dELS</td>\n",
       "    </tr>\n",
       "    <tr>\n",
       "      <th>4</th>\n",
       "      <td>chr1</td>\n",
       "      <td>3445885</td>\n",
       "      <td>3446198</td>\n",
       "      <td>EM10D1036337</td>\n",
       "      <td>EM10E0431211</td>\n",
       "      <td>pELS</td>\n",
       "    </tr>\n",
       "    <tr>\n",
       "      <th>5</th>\n",
       "      <td>chr1</td>\n",
       "      <td>3451695</td>\n",
       "      <td>3451984</td>\n",
       "      <td>EM10D2262550</td>\n",
       "      <td>EM10E0932230</td>\n",
       "      <td>dELS</td>\n",
       "    </tr>\n",
       "    <tr>\n",
       "      <th>...</th>\n",
       "      <td>...</td>\n",
       "      <td>...</td>\n",
       "      <td>...</td>\n",
       "      <td>...</td>\n",
       "      <td>...</td>\n",
       "      <td>...</td>\n",
       "    </tr>\n",
       "    <tr>\n",
       "      <th>368116</th>\n",
       "      <td>chrX</td>\n",
       "      <td>166516781</td>\n",
       "      <td>166517123</td>\n",
       "      <td>EM10D2261053</td>\n",
       "      <td>EM10E1234933</td>\n",
       "      <td>dELS</td>\n",
       "    </tr>\n",
       "    <tr>\n",
       "      <th>368117</th>\n",
       "      <td>chrX</td>\n",
       "      <td>166539724</td>\n",
       "      <td>166540065</td>\n",
       "      <td>EM10D2261067</td>\n",
       "      <td>EM10E1234936</td>\n",
       "      <td>dELS</td>\n",
       "    </tr>\n",
       "    <tr>\n",
       "      <th>368118</th>\n",
       "      <td>chrX</td>\n",
       "      <td>166895215</td>\n",
       "      <td>166895561</td>\n",
       "      <td>EM10D2261208</td>\n",
       "      <td>EM10E1234954</td>\n",
       "      <td>dELS</td>\n",
       "    </tr>\n",
       "    <tr>\n",
       "      <th>368119</th>\n",
       "      <td>chrX</td>\n",
       "      <td>169861337</td>\n",
       "      <td>169861669</td>\n",
       "      <td>EM10D2994601</td>\n",
       "      <td>EM10E1235078</td>\n",
       "      <td>dELS</td>\n",
       "    </tr>\n",
       "    <tr>\n",
       "      <th>368120</th>\n",
       "      <td>chrX</td>\n",
       "      <td>169883413</td>\n",
       "      <td>169883757</td>\n",
       "      <td>EM10D2994616</td>\n",
       "      <td>EM10E1235088</td>\n",
       "      <td>dELS</td>\n",
       "    </tr>\n",
       "  </tbody>\n",
       "</table>\n",
       "<p>329562 rows × 6 columns</p>\n",
       "</div>"
      ],
      "text/plain": [
       "           0          1          2             3             4     5\n",
       "1       chr1    3119617    3119911  EM10D1036249  EM10E0431203  dELS\n",
       "2       chr1    3119914    3120119  EM10D2262517  EM10E0932226  dELS\n",
       "3       chr1    3120346    3120662  EM10D1036251  EM10E0431205  dELS\n",
       "4       chr1    3445885    3446198  EM10D1036337  EM10E0431211  pELS\n",
       "5       chr1    3451695    3451984  EM10D2262550  EM10E0932230  dELS\n",
       "...      ...        ...        ...           ...           ...   ...\n",
       "368116  chrX  166516781  166517123  EM10D2261053  EM10E1234933  dELS\n",
       "368117  chrX  166539724  166540065  EM10D2261067  EM10E1234936  dELS\n",
       "368118  chrX  166895215  166895561  EM10D2261208  EM10E1234954  dELS\n",
       "368119  chrX  169861337  169861669  EM10D2994601  EM10E1235078  dELS\n",
       "368120  chrX  169883413  169883757  EM10D2994616  EM10E1235088  dELS\n",
       "\n",
       "[329562 rows x 6 columns]"
      ]
     },
     "execution_count": 42,
     "metadata": {},
     "output_type": "execute_result"
    }
   ],
   "source": [
    "enhancers.iloc[:,[0,1,2]]"
   ]
  },
  {
   "cell_type": "code",
   "execution_count": 43,
   "metadata": {},
   "outputs": [],
   "source": [
    "enhancers.to_csv('../data/Enhancersmm10.bed')"
   ]
  },
  {
   "attachments": {},
   "cell_type": "markdown",
   "metadata": {},
   "source": [
    "# Subset for only the usefull columns"
   ]
  },
  {
   "cell_type": "code",
   "execution_count": 44,
   "metadata": {},
   "outputs": [],
   "source": [
    "pro_enhancers = enhancers.iloc[:,[0,1,2]]"
   ]
  },
  {
   "cell_type": "code",
   "execution_count": 48,
   "metadata": {},
   "outputs": [
    {
     "name": "stderr",
     "output_type": "stream",
     "text": [
      "/tmp/ipykernel_2069234/2143730326.py:1: SettingWithCopyWarning: \n",
      "A value is trying to be set on a copy of a slice from a DataFrame.\n",
      "Try using .loc[row_indexer,col_indexer] = value instead\n",
      "\n",
      "See the caveats in the documentation: https://pandas.pydata.org/pandas-docs/stable/user_guide/indexing.html#returning-a-view-versus-a-copy\n",
      "  pro_enhancers[3] = 1\n"
     ]
    }
   ],
   "source": [
    "pro_enhancers[3] = 1"
   ]
  },
  {
   "cell_type": "code",
   "execution_count": 50,
   "metadata": {},
   "outputs": [],
   "source": [
    "column_names = ['chromosome', 'chromStart', 'chromEnd', 'hit']"
   ]
  },
  {
   "cell_type": "code",
   "execution_count": 51,
   "metadata": {},
   "outputs": [],
   "source": [
    "pro_enhancers.columns = column_names"
   ]
  },
  {
   "cell_type": "code",
   "execution_count": 53,
   "metadata": {},
   "outputs": [],
   "source": [
    "pro_enhancers.to_csv('../../data/processed_assets/ProEnhancersmm10.csv', sep = \",\")"
   ]
  }
 ],
 "metadata": {
  "kernelspec": {
   "display_name": "base",
   "language": "python",
   "name": "python3"
  },
  "language_info": {
   "codemirror_mode": {
    "name": "ipython",
    "version": 3
   },
   "file_extension": ".py",
   "mimetype": "text/x-python",
   "name": "python",
   "nbconvert_exporter": "python",
   "pygments_lexer": "ipython3",
   "version": "3.9.12"
  },
  "orig_nbformat": 4,
  "vscode": {
   "interpreter": {
    "hash": "1b302ccf1d0defafe1d0af717448284a02f248b8207c36c2de3df0786565a6c5"
   }
  }
 },
 "nbformat": 4,
 "nbformat_minor": 2
}
